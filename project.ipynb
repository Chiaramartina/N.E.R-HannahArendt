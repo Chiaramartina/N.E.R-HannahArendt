{
 "cells": [
  {
   "cell_type": "markdown",
   "id": "32b14084",
   "metadata": {},
   "source": [
    "**SpaCy** is a Python library for Natural Language Processing (NLP). It uses statistical models based on neural networks. These models are already trained on large corpora (texts) for:\n",
    "- **Tokenize**: it divides the text into tokens respecting language rules and dictionary.\n",
    "- Find speech parts (**POS tagging**): Assign a grammatical label to each word using statistical models.\n",
    "- Analyze grammatical dependencies (**Parsing**): Create a grammatical dependency tree (who depends on whom).\n",
    "- Recognise entities (**NER**): It detects sequences of tokens that correspond to entities (e.g. people, places).\n",
    "Internally it uses models like Convolutional Neural Networks (CNN).\n",
    "\n",
    "Documentation: https://spacy.io/usage/projects/"
   ]
  },
  {
   "cell_type": "code",
   "execution_count": null,
   "id": "930cd096",
   "metadata": {},
   "outputs": [],
   "source": [
    "!nvcc --version\n"
   ]
  }
 ],
 "metadata": {
  "kernelspec": {
   "display_name": "Python 3",
   "language": "python",
   "name": "python3"
  },
  "language_info": {
   "name": "python",
   "version": "3.10.11"
  }
 },
 "nbformat": 4,
 "nbformat_minor": 5
}
